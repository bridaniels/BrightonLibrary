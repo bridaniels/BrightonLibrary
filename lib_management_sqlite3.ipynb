{
 "cells": [
  {
   "cell_type": "markdown",
   "metadata": {},
   "source": [
    "# SQLite Python Library Management \n",
    "---\n",
    "### [Library Management System Project in Python](https://pythongeeks.org/python-library-management-system-project/)\n",
    "---\n",
    "---"
   ]
  },
  {
   "cell_type": "markdown",
   "metadata": {},
   "source": [
    "# Import Libraries\n",
    "---"
   ]
  },
  {
   "cell_type": "markdown",
   "metadata": {},
   "source": [
    "#### SQLite3"
   ]
  },
  {
   "cell_type": "code",
   "execution_count": 1,
   "metadata": {},
   "outputs": [
    {
     "data": {
      "text/plain": [
       "<sqlite3.Cursor at 0x7f98b47343b0>"
      ]
     },
     "execution_count": 1,
     "metadata": {},
     "output_type": "execute_result"
    }
   ],
   "source": [
    "import sqlite3\n",
    "\n",
    "connector = sqlite3.connect('library.db')\n",
    "cursor = connector.cursor()\n",
    "\n",
    "connector.execute('CREATE TABLE IF NOT EXISTS Library (BK_NAME TEXT, BK_ID TEXT PRIMARY KEY NOT NULL, AUTHOR_NAME TEXT, BK_STATUS TEXT, CARD_ID TEXT)')"
   ]
  },
  {
   "cell_type": "markdown",
   "metadata": {},
   "source": [
    "#### Tikinter"
   ]
  },
  {
   "cell_type": "code",
   "execution_count": 2,
   "metadata": {},
   "outputs": [],
   "source": [
    "from tkinter import *\n",
    "import tkinter.ttk as ttk\n",
    "import tkinter.messagebox as mb\n",
    "import tkinter.simpledialog as sd"
   ]
  },
  {
   "cell_type": "markdown",
   "metadata": {},
   "source": [
    "# Backend Functions\n",
    "---\n",
    "### FIX\n",
    "> - `issuer_card()`: \n",
    "> used when book is not avaliable \n",
    "> - `display_records()`: \n",
    "> display all records from database to table in GUI Window\n",
    "> check users ID card -> error if unabaiable \n",
    "> - `clear_fields()`: \n",
    "> remove values in entry boxes -> sets StringVar object to empty string \n",
    "> - `clear_and_display()`: \n",
    "> combine `clear_fields()` and `display_records()`\n",
    "> - `view_records()`:\n",
    "> display the details of selected row in table \n"
   ]
  },
  {
   "cell_type": "code",
   "execution_count": 3,
   "metadata": {},
   "outputs": [],
   "source": [
    "def issuer_card(): \n",
    "    Cid = sd.askstring('Issuer Card ID', 'What is the Issuer\\'s Card ID? \\t\\t\\t')\n",
    "    if not Cid: \n",
    "        mb.showerror('Issuer ID cannot be zero!', 'Can\\'t keep Issuer ID empty, it must have a value')\n",
    "    else: \n",
    "        return Cid\n",
    "\n",
    "\n",
    "def display_records(): \n",
    "    global connector, cursor\n",
    "    global tree\n",
    "    tree.delete(*tree.get_children())\n",
    "    curr = connector.execute('SELECT * FROM Library')\n",
    "    data = curr.fetchall()\n",
    "\n",
    "    for records in data: \n",
    "        tree.insert('', END, values=records)\n",
    "\n",
    "\n",
    "\n",
    "def clear_fields(): \n",
    "    global bk_status, bk_id, bk_name, author_name, card_id\n",
    "\n",
    "    bk_status.set('Avaliable')\n",
    "    \n",
    "    for i in ['bk_id', 'bk_name', 'author_name', 'card_id']:\n",
    "     exec(f\"{i}.set('')\")\n",
    "     bk_id_entry.config(state='normal')\n",
    "    try:\n",
    "      tree.selection_remove(tree.selection()[0])\n",
    "    except:\n",
    "           pass\n",
    "\n",
    "\n",
    "def clear_and_display():\n",
    "     clear_fields()\n",
    "     display_records()\n",
    "\n",
    "\n",
    "def view_record():\n",
    "         global bk_name, bk_id, bk_status, author_name, card_id\n",
    "         global tree\n",
    "         if not tree.focus():\n",
    "           mb.showerror('Select a row!', 'To view a record, you must select it in the table. Please do so before continuing.')\n",
    "           return\n",
    "         current_item_selected = tree.focus()\n",
    "         values_in_selected_item = tree.item(current_item_selected)\n",
    "         selection = values_in_selected_item['values']\n",
    "         bk_name.set(selection[0]) ; bk_id.set(selection[1]) ; bk_status.set(selection[3])\n",
    "         author_name.set(selection[2])"
   ]
  },
  {
   "cell_type": "markdown",
   "metadata": {},
   "source": [
    "# Data Storage and Manipulation\n",
    "---\n",
    "#### FIX\n",
    "> - `add_record()`:\n",
    "> \n",
    "> - `remove_record()`:\n",
    "> \n",
    "> - `delete_inventory()`:\n",
    "> \n",
    "> - `update_record()`:\n",
    "> \n",
    "> - `update()`:\n",
    ">\n",
    "> - `change_avaliability()`:\n",
    "> "
   ]
  },
  {
   "cell_type": "code",
   "execution_count": 4,
   "metadata": {},
   "outputs": [],
   "source": [
    "def add_record():\n",
    "      global connector\n",
    "      global bk_name, bk_id, author_name, bk_status\n",
    "\n",
    "      if bk_status.get() == 'Issued':\n",
    "            card_id.set(issuer_card())\n",
    "      else:\n",
    "            card_id.set('N/A')\n",
    "      \n",
    "      surety = mb.askyesno('Are you sure?','Are you sure this is the data you want to enter?\\nPlease note that Book ID cannot be changed in the future')\n",
    "      if surety:\n",
    "            try:\n",
    "                  connector.execute(\n",
    "                        'INSERT INTO Library (BK_NAME, BK_ID, AUTHOR_NAME, BK_STATUS, CARD_ID) VALUES (?, ?, ?, ?, ?)', (bk_name.get(), bk_id.get(), author_name.get(), bk_status.get(), card_id.get()))\n",
    "                  connector.commit()\n",
    "                  \n",
    "                  clear_and_display()\n",
    "     \n",
    "                  mb.showinfo('Record added', 'The new record was successfully added to your database')\n",
    "            except sqlite3.IntegrityError:\n",
    "                  mb.showerror('Book ID already in use!','The Book ID you are trying to enter is already in the database, please alter that book\\'s record or check any discrepancies on your side')\n",
    "\n",
    "\n",
    "def update_record():\n",
    "      def update():\n",
    "            global bk_status, bk_name, bk_id, author_name, card_id\n",
    "            global connector, tree\n",
    "       \n",
    "            if bk_status.get() == 'Issued':\n",
    "                  card_id.set(issuer_card())\n",
    "            else:\n",
    "                  card_id.set('N/A')\n",
    "            \n",
    "            cursor.execute('UPDATE Library SET BK_NAME=?, BK_STATUS=?, AUTHOR_NAME=?, CARD_ID=? WHERE BK_ID=?', (bk_name.get(), bk_status.get(), author_name.get(), card_id.get(), bk_id.get()))\n",
    "            connector.commit()\n",
    "        \n",
    "            clear_and_display()\n",
    "            edit.destroy()\n",
    "            bk_id_entry.config(state='normal')\n",
    "            clear.config(state='normal')\n",
    "\n",
    "      view_record()\n",
    "      bk_id_entry.config(state='disable')\n",
    "      clear.config(state='disable')\n",
    "      edit = Button(left_frame, text='Update Record', font=btn_font, bg=btn_hlb_bg, width=20, command=update)\n",
    "      edit.place(x=50, y=375)\n",
    "      \n",
    "      \n",
    "def remove_record():\n",
    "      if not tree.selection():\n",
    "            mb.showerror('Error!', 'Please select an item from the database')\n",
    "            return\n",
    "   \n",
    "      current_item = tree.focus()\n",
    "      values = tree.item(current_item)\n",
    "      selection = values[\"values\"]\n",
    " \n",
    "      cursor.execute('DELETE FROM Library WHERE BK_ID=?', (selection[1], ))\n",
    "      connector.commit()\n",
    "      \n",
    "      tree.delete(current_item)\n",
    "      mb.showinfo('Done', 'The record you wanted deleted was successfully deleted.')\n",
    "      clear_and_display()\n",
    "\n",
    "\n",
    "def delete_inventory():\n",
    "      if mb.askyesno('Are you sure?', 'Are you sure you want to delete the entire inventory?\\n\\nThis command cannot be reversed'):\n",
    "            tree.delete(*tree.get_children())\n",
    "            cursor.execute('DELETE FROM Library')\n",
    "            connector.commit()\n",
    "      else:\n",
    "            return\n",
    "\n",
    "\n",
    "def change_availability():\n",
    "      global card_id, tree, connector\n",
    "      if not tree.selection():\n",
    "            mb.showerror('Error!', 'Please select a book from the database')\n",
    "            return\n",
    "      current_item = tree.focus()\n",
    "      values = tree.item(current_item)\n",
    "      BK_id = values['values'][1]\n",
    "      BK_status = values[\"values\"][3]\n",
    "      \n",
    "      if BK_status == 'Issued':\n",
    "            surety = mb.askyesno('Is return confirmed?', 'Has the book been returned to you?')\n",
    "            if surety:\n",
    "                  cursor.execute('UPDATE Library SET bk_status=?, card_id=? WHERE bk_id=?', ('Available', 'N/A', BK_id))\n",
    "                  connector.commit()\n",
    "            else:\n",
    "                  mb.showinfo('Cannot be returned', 'The book status cannot be set to Available unless it has been returned')\n",
    "      else: \n",
    "            cursor.execute('UPDATE Library SET bk_status=?, card_id=? where bk_id=?', ('Issued', issuer_card(), BK_id))\n",
    "            connector.commit()\n",
    "      clear_and_display()"
   ]
  },
  {
   "cell_type": "markdown",
   "metadata": {},
   "source": [
    "# GUI Window\n",
    "---"
   ]
  },
  {
   "cell_type": "markdown",
   "metadata": {},
   "source": [
    "### Initializing Main GUI Window"
   ]
  },
  {
   "cell_type": "code",
   "execution_count": 64,
   "metadata": {},
   "outputs": [],
   "source": [
    "# Initializing the main GUI window\n",
    "root = Tk()\n",
    "root.title('Brighton\\'s Library Management')\n",
    "root.geometry('1010x530')\n",
    "root.resizable(0, 0)\n",
    "Label(root, text='Brighton\\'s Library management', font=(\"Noto Sans CJK TC\", 15, 'bold'), bg='SteelBlue', fg='White').pack(side=TOP, fill=X)"
   ]
  },
  {
   "cell_type": "markdown",
   "metadata": {},
   "source": [
    "### Color/Font Variables"
   ]
  },
  {
   "cell_type": "code",
   "execution_count": 65,
   "metadata": {},
   "outputs": [],
   "source": [
    "# Color/Font Variables \n",
    "# Colors\n",
    "lf_bg = 'LightSkyBlue' # Left Frame Background Color\n",
    "rtf_bg = 'DeepSkyBlue' # Right Top Frame Background Color\n",
    "rbf_bg = 'DodgerBlue' # Right Bottom Frame Background Color\n",
    "btn_hlb_bg = 'SteelBlue' # Background color for Head Labels and Buttons\n",
    "\n",
    "# Text/Font \n",
    "lbl_font = ('Georgia', 13) # Font for all labels\n",
    "entry_font = ('Times New Roman', 12) # Font for all Entry widgets\n",
    "btn_font = ('Gill Sans MT', 13)\n",
    "\n",
    "# StringVars()\n",
    "bk_status = StringVar()\n",
    "bk_name = StringVar()\n",
    "bk_id = StringVar()\n",
    "author_name = StringVar()\n",
    "card_id = StringVar()\n"
   ]
  },
  {
   "cell_type": "markdown",
   "metadata": {},
   "source": [
    "### Entry Blanks "
   ]
  },
  {
   "cell_type": "code",
   "execution_count": 66,
   "metadata": {},
   "outputs": [],
   "source": [
    "# Frames\n",
    "left_frame = Frame(root, bg=lf_bg)\n",
    "left_frame.place(x=0, y=30, relwidth=0.3, relheight=0.96)\n",
    "RT_frame = Frame(root, bg=rtf_bg)\n",
    "RT_frame.place(relx=0.3, y=30, relheight=0.2, relwidth=0.7)\n",
    "RB_frame = Frame(root)\n",
    "RB_frame.place(relx=0.3, rely=0.24, relheight=0.785, relwidth=0.7)\n",
    "\n",
    "# Book Name \n",
    "Label(left_frame, text='Book Name', bg=lf_bg, font=lbl_font).place(x=98, y=25)\n",
    "Entry(left_frame, width=25, font=entry_font, text=bk_name).place(x=45, y=55)\n",
    "\n",
    "# Book Category\n",
    "Label(left_frame, text='Book Category', bg=lf_bg, font=lbl_font).place(x=98, y=85)\n",
    "bk_id_entry = Entry(left_frame, width=25, font=entry_font, text=bk_id)\n",
    "bk_id_entry.place(x=45, y=115)\n",
    "\n",
    "# Author\n",
    "Label(left_frame, text='Author Name', bg=lf_bg, font=lbl_font).place(x=98, y=145)\n",
    "Entry(left_frame, width=25, font=entry_font, text=author_name).place(x=45, y=175)\n",
    "\n",
    "# Status\n",
    "Label(left_frame, text='Status of the Book', bg=lf_bg, font=lbl_font).place(x=98, y=205)\n",
    "dd = OptionMenu(left_frame, bk_status, *['To Read', 'Reading', 'Finished'])\n",
    "dd.configure(font=entry_font, width=25)\n",
    "dd.place(x=45, y=235)\n"
   ]
  },
  {
   "cell_type": "markdown",
   "metadata": {},
   "source": [
    "### Top Buttons "
   ]
  },
  {
   "cell_type": "code",
   "execution_count": 67,
   "metadata": {},
   "outputs": [],
   "source": [
    "# Add New Record\n",
    "submit = Button(left_frame, text='Add new record', font=btn_font, bg=btn_hlb_bg, width=20, command=add_record)\n",
    "submit.place(x=50, y=375)\n",
    "\n",
    "# Clear Fields \n",
    "clear = Button(left_frame, text='Clear fields', font=btn_font, bg=btn_hlb_bg, width=20, command=clear_fields)\n",
    "clear.place(x=50, y=435)\n",
    "\n",
    "# Right Top Frame\n",
    "Button(RT_frame, text='Delete book record', font=btn_font, bg=btn_hlb_bg, width=17, command=remove_record).place(x=8, y=30)\n",
    "Button(RT_frame, text='Delete full inventory', font=btn_font, bg=btn_hlb_bg, width=17, command=delete_inventory).place(x=178, y=30)\n",
    "Button(RT_frame, text='Update book details', font=btn_font, bg=btn_hlb_bg, width=17,\n",
    "command=update_record).place(x=348, y=30)\n",
    "Button(RT_frame, text='Change Book Availability', font=btn_font, bg=btn_hlb_bg, width=19,\n",
    "command=change_availability).place(x=518, y=30)"
   ]
  },
  {
   "cell_type": "markdown",
   "metadata": {},
   "source": [
    "### Book Inventory "
   ]
  },
  {
   "cell_type": "code",
   "execution_count": 68,
   "metadata": {},
   "outputs": [],
   "source": [
    "# Right Bottom Frame\n",
    "Label(RB_frame, text='BOOK INVENTORY', bg=rbf_bg, font=(\"Noto Sans CJK TC\", 15, 'bold')).pack(side=TOP, fill=X)\n",
    "tree = ttk.Treeview(RB_frame, selectmode=BROWSE, columns=('Book Name', 'Book Category', 'Author', 'Status', 'Issuer Card ID'))\n",
    "\n",
    "XScrollbar = Scrollbar(tree, orient=HORIZONTAL, command=tree.xview)\n",
    "YScrollbar = Scrollbar(tree, orient=VERTICAL, command=tree.yview)\n",
    "XScrollbar.pack(side=BOTTOM, fill=X)\n",
    "YScrollbar.pack(side=RIGHT, fill=Y)\n",
    "tree.config(xscrollcommand=XScrollbar.set, yscrollcommand=YScrollbar.set)\n",
    "\n",
    "\n",
    "# Column Titles \n",
    "tree.heading('Book Name', text='Book Name', anchor=CENTER)\n",
    "tree.heading('Book Category', text='Book Category', anchor=CENTER)\n",
    "tree.heading('Author', text='Author', anchor=CENTER)\n",
    "tree.heading('Status', text='Status of the Book', anchor=CENTER)\n",
    "tree.heading('Issuer Card ID', text='Card ID of the Issuer', anchor=CENTER)\n",
    "\n",
    "tree.column('#0', width=0, stretch=NO)\n",
    "tree.column('#1', width=225, stretch=NO)\n",
    "tree.column('#2', width=100, stretch=NO)\n",
    "tree.column('#3', width=200, stretch=NO)\n",
    "tree.column('#4', width=105, stretch=NO)\n",
    "tree.column('#5', width=132, stretch=NO)\n",
    "tree.place(y=30, x=0, relheight=0.9, relwidth=1)\n",
    "\n",
    "clear_and_display()"
   ]
  },
  {
   "cell_type": "code",
   "execution_count": 69,
   "metadata": {},
   "outputs": [
    {
     "ename": "KeyboardInterrupt",
     "evalue": "",
     "output_type": "error",
     "traceback": [
      "\u001b[0;31m---------------------------------------------------------------------------\u001b[0m",
      "\u001b[0;31mKeyboardInterrupt\u001b[0m                         Traceback (most recent call last)",
      "\u001b[1;32m/Users/CODEUSR/Documents/BrightonLibrary/library.ipynb Cell 22\u001b[0m in \u001b[0;36m<cell line: 3>\u001b[0;34m()\u001b[0m\n\u001b[1;32m      <a href='vscode-notebook-cell:/Users/CODEUSR/Documents/BrightonLibrary/library.ipynb#ch0000012?line=0'>1</a>\u001b[0m \u001b[39m# Finalizing the window\u001b[39;00m\n\u001b[1;32m      <a href='vscode-notebook-cell:/Users/CODEUSR/Documents/BrightonLibrary/library.ipynb#ch0000012?line=1'>2</a>\u001b[0m root\u001b[39m.\u001b[39mupdate()\n\u001b[0;32m----> <a href='vscode-notebook-cell:/Users/CODEUSR/Documents/BrightonLibrary/library.ipynb#ch0000012?line=2'>3</a>\u001b[0m root\u001b[39m.\u001b[39;49mmainloop()\n",
      "File \u001b[0;32m~/opt/anaconda3/lib/python3.8/tkinter/__init__.py:1429\u001b[0m, in \u001b[0;36mMisc.mainloop\u001b[0;34m(self, n)\u001b[0m\n\u001b[1;32m   1427\u001b[0m \u001b[39mdef\u001b[39;00m \u001b[39mmainloop\u001b[39m(\u001b[39mself\u001b[39m, n\u001b[39m=\u001b[39m\u001b[39m0\u001b[39m):\n\u001b[1;32m   1428\u001b[0m     \u001b[39m\"\"\"Call the mainloop of Tk.\"\"\"\u001b[39;00m\n\u001b[0;32m-> 1429\u001b[0m     \u001b[39mself\u001b[39;49m\u001b[39m.\u001b[39;49mtk\u001b[39m.\u001b[39;49mmainloop(n)\n",
      "\u001b[0;31mKeyboardInterrupt\u001b[0m: "
     ]
    }
   ],
   "source": [
    "\n",
    "\n",
    "# Finalizing the window\n",
    "root.update()\n",
    "root.mainloop()\n"
   ]
  },
  {
   "cell_type": "code",
   "execution_count": null,
   "metadata": {},
   "outputs": [],
   "source": []
  }
 ],
 "metadata": {
  "kernelspec": {
   "display_name": "Python 3.8.8 ('base')",
   "language": "python",
   "name": "python3"
  },
  "language_info": {
   "codemirror_mode": {
    "name": "ipython",
    "version": 3
   },
   "file_extension": ".py",
   "mimetype": "text/x-python",
   "name": "python",
   "nbconvert_exporter": "python",
   "pygments_lexer": "ipython3",
   "version": "3.8.8"
  },
  "orig_nbformat": 4,
  "vscode": {
   "interpreter": {
    "hash": "08a0dfaf3fa74e1b9a1bb705dbe1b2708914f992320bdd77350db063c3b717dd"
   }
  }
 },
 "nbformat": 4,
 "nbformat_minor": 2
}
